{
  "nbformat": 4,
  "nbformat_minor": 0,
  "metadata": {
    "colab": {
      "name": "Fase2.ipynb",
      "provenance": [],
      "include_colab_link": true
    },
    "kernelspec": {
      "name": "python3",
      "display_name": "Python 3"
    }
  },
  "cells": [
    {
      "cell_type": "markdown",
      "metadata": {
        "id": "view-in-github",
        "colab_type": "text"
      },
      "source": [
        "<a href=\"https://colab.research.google.com/github/LucasLCarreira/MARATONA-DATA-SCIENCE/blob/master/Fase2.ipynb\" target=\"_parent\"><img src=\"https://colab.research.google.com/assets/colab-badge.svg\" alt=\"Open In Colab\"/></a>"
      ]
    },
    {
      "cell_type": "markdown",
      "metadata": {
        "id": "CYNAmoj4zSXl",
        "colab_type": "text"
      },
      "source": [
        "Crie um algoritmo em Python que peça 2 números e imprima o maior deles."
      ]
    },
    {
      "cell_type": "code",
      "metadata": {
        "id": "ViAfpy3GzPN-",
        "colab_type": "code",
        "outputId": "1086fd57-c95a-4e44-dabd-137fc3682e23",
        "colab": {
          "base_uri": "https://localhost:8080/",
          "height": 68
        }
      },
      "source": [
        "x = int(input('Digite o primeiro valor: '))\n",
        "y = int(input('Digite o segundo valor: '))\n",
        "if x > y:\n",
        "  print(f'O maior valor é {x}')\n",
        "elif y > x:\n",
        "  print(f'O maior valor é {y}')\n",
        "else:\n",
        "  print('Os valores são iguais')"
      ],
      "execution_count": 0,
      "outputs": [
        {
          "output_type": "stream",
          "text": [
            "Digite o primeiro valor: 5\n",
            "Digite o segundo valor: 5\n",
            "Os valores são iguais\n"
          ],
          "name": "stdout"
        }
      ]
    },
    {
      "cell_type": "markdown",
      "metadata": {
        "id": "gdMis92izSmQ",
        "colab_type": "text"
      },
      "source": [
        "Crie um algoritmo em Python que peça um valor e mostre na tela se o valor é positivo ou negativo."
      ]
    },
    {
      "cell_type": "code",
      "metadata": {
        "id": "BFpWkdCBz_zh",
        "colab_type": "code",
        "outputId": "6c7c00a2-4cce-4261-e40b-9f6f76711a74",
        "colab": {
          "base_uri": "https://localhost:8080/",
          "height": 51
        }
      },
      "source": [
        "x = int(input('Digite um valor: '))\n",
        "if x > 0:\n",
        "  print('O valor é positivo!')\n",
        "elif x < 0:\n",
        "  print('O valor é negativo!')\n",
        "else:\n",
        "  print('O valor é zero!')"
      ],
      "execution_count": 0,
      "outputs": [
        {
          "output_type": "stream",
          "text": [
            "Digite um valor: 0\n",
            "O valor é zero!\n"
          ],
          "name": "stdout"
        }
      ]
    },
    {
      "cell_type": "markdown",
      "metadata": {
        "id": "E_0l_Vx6zSo2",
        "colab_type": "text"
      },
      "source": [
        "Crie um algoritmo em Python que verifique se uma letra digitada é vogal ou consoante."
      ]
    },
    {
      "cell_type": "code",
      "metadata": {
        "id": "KwJf7XZS0AZW",
        "colab_type": "code",
        "outputId": "2f3765b0-1077-4056-9527-aa316dba2c5d",
        "colab": {
          "base_uri": "https://localhost:8080/",
          "height": 51
        }
      },
      "source": [
        "letra = str(input('Digite uma letra: ')).strip().lower()[0]\n",
        "if letra in 'aeiou':\n",
        "  print('A letra é uma vogal!')\n",
        "elif letra in 'bcdfghjklmnpqrstvwyz':\n",
        "  print('A letra é uma consoante!')\n",
        "else:\n",
        "  print('A letra não é vogal nem consoante!')"
      ],
      "execution_count": 0,
      "outputs": [
        {
          "output_type": "stream",
          "text": [
            "Digite uma letra: [\n",
            "A letra não é vogal nem consoante!\n"
          ],
          "name": "stdout"
        }
      ]
    },
    {
      "cell_type": "markdown",
      "metadata": {
        "id": "1i4VCiiczSrL",
        "colab_type": "text"
      },
      "source": [
        "Faça um programa para a leitura de duas notas parciais de um aluno. O programa deve calcular a média alcançada por aluno e apresentar:\n",
        "* \"Aprovado\", se a média alcançada for maior ou igual a sete;\n",
        "* \"Reprovado\", se a média for menor do que sete;\n",
        "* \"Aprovado com Distinção\", se a média for igual a 10."
      ]
    },
    {
      "cell_type": "code",
      "metadata": {
        "id": "yoW67hjA0BHy",
        "colab_type": "code",
        "outputId": "95433e77-c29c-475b-c021-5c17ea9d9230",
        "colab": {
          "base_uri": "https://localhost:8080/",
          "height": 68
        }
      },
      "source": [
        "n1 = float(input('Digite a primeira nota: '))\n",
        "n2 = float(input('Digite a segunda nota: '))\n",
        "m = (n1 + n2) / 2\n",
        "if m < 7:\n",
        "  print(f'A média é {m} e o aluno está reprovado!')\n",
        "elif m < 10:\n",
        "  print(f'A média é {m} e o aluno está aprovado!')\n",
        "elif m == 10:\n",
        "  print(f'A média é {m} e o aluno está aprovado com distinção!')"
      ],
      "execution_count": 0,
      "outputs": [
        {
          "output_type": "stream",
          "text": [
            "Digite a primeira nota: 10\n",
            "Digite a segunda nota: 10\n",
            "A média é 10.0 e o aluno está aprovado com distinção!\n"
          ],
          "name": "stdout"
        }
      ]
    },
    {
      "cell_type": "markdown",
      "metadata": {
        "id": "4ep7kezvzStO",
        "colab_type": "text"
      },
      "source": [
        "Crie um algoritmo em Python que leia três números e mostre o maior deles."
      ]
    },
    {
      "cell_type": "code",
      "metadata": {
        "id": "6K6IHWdr0Blt",
        "colab_type": "code",
        "outputId": "a304eec2-9978-4008-e2a8-b0245ab67fc4",
        "colab": {
          "base_uri": "https://localhost:8080/",
          "height": 85
        }
      },
      "source": [
        "a = int(input('Digite o primeiro número: '))\n",
        "b = int(input('Digite o segundo número: '))\n",
        "c = int(input('Digite o terceiro número: '))\n",
        "maior = 0\n",
        "if a > maior:\n",
        "  maior = a\n",
        "if b > a:\n",
        "  maior = b\n",
        "if c > a and c > b:\n",
        "  maior = c\n",
        "print(maior)"
      ],
      "execution_count": 0,
      "outputs": [
        {
          "output_type": "stream",
          "text": [
            "Digite o primeiro número: -1\n",
            "Digite o segundo número: -2\n",
            "Digite o terceiro número: 0\n",
            "0\n"
          ],
          "name": "stdout"
        }
      ]
    },
    {
      "cell_type": "markdown",
      "metadata": {
        "id": "u6__NaXqzeYg",
        "colab_type": "text"
      },
      "source": [
        "Crie um algoritmo em Python que leia três números e mostre o maior e o menor deles."
      ]
    },
    {
      "cell_type": "code",
      "metadata": {
        "id": "mm2L7g3x0Cfx",
        "colab_type": "code",
        "outputId": "75b4025c-9107-4fba-a34c-174a7a5be989",
        "colab": {
          "base_uri": "https://localhost:8080/",
          "height": 102
        }
      },
      "source": [
        "a = int(input('Digite o primeiro número: '))\n",
        "b = int(input('Digite o segundo número: '))\n",
        "c = int(input('Digite o terceiro número: '))\n",
        "maior = 0\n",
        "menor = a\n",
        "if a > maior:\n",
        "  maior = a\n",
        "if b > a:\n",
        "  maior = b\n",
        "if c > a and c > b:\n",
        "  maior = c\n",
        "if b < a:\n",
        "  menor = b\n",
        "if c < a and c < b:\n",
        "  menor = c\n",
        "print('O maior é: ',maior)\n",
        "print('O menor é: ',menor)"
      ],
      "execution_count": 0,
      "outputs": [
        {
          "output_type": "stream",
          "text": [
            "Digite o primeiro número: 1\n",
            "Digite o segundo número: 3\n",
            "Digite o terceiro número: 2\n",
            "O maior é:  3\n",
            "O menor é:  1\n"
          ],
          "name": "stdout"
        }
      ]
    },
    {
      "cell_type": "markdown",
      "metadata": {
        "id": "lIlfG-ATzgOr",
        "colab_type": "text"
      },
      "source": [
        "Faça um programa que pergunte o preço de 5 produtos e informe qual produto você deve comprar, sabendo que a decisão é sempre pelo mais barato."
      ]
    },
    {
      "cell_type": "code",
      "metadata": {
        "id": "-y4pB6br0DD_",
        "colab_type": "code",
        "outputId": "1358fc61-313f-46f4-d35b-59c59fa41bdd",
        "colab": {
          "base_uri": "https://localhost:8080/",
          "height": 119
        }
      },
      "source": [
        "a = int(input('Digite o preço do primeiro produto: '))\n",
        "b = int(input('Digite o preço do segundo produto: '))\n",
        "c = int(input('Digite o preço do terceiro produto: '))\n",
        "d = int(input('Digite o preço do quarto produto: '))\n",
        "e = int(input('Digite o preço do quinto produto: '))\n",
        "barato = a\n",
        "if b < barato:\n",
        "  barato = b\n",
        "if c < barato:\n",
        "  barato = c\n",
        "if d < barato:\n",
        "  barato = d\n",
        "if e < barato:\n",
        "  barato = e\n",
        "print(f'Compre o produto de preço R$ {barato}')"
      ],
      "execution_count": 0,
      "outputs": [
        {
          "output_type": "stream",
          "text": [
            "Digite o preço do primeiro produto: 7\n",
            "Digite o preço do segundo produto: 5\n",
            "Digite o preço do terceiro produto: 1\n",
            "Digite o preço do quarto produto: 6\n",
            "Digite o preço do quinto produto: 4\n",
            "Compre o produto de preço R$ 1\n"
          ],
          "name": "stdout"
        }
      ]
    },
    {
      "cell_type": "markdown",
      "metadata": {
        "id": "Vj4OXsJQziu_",
        "colab_type": "text"
      },
      "source": [
        "Crie um algoritmo em Python que leia três números e mostre-os em ordem decrescente."
      ]
    },
    {
      "cell_type": "code",
      "metadata": {
        "id": "RmApGpg30D00",
        "colab_type": "code",
        "colab": {}
      },
      "source": [
        "# INSIRA SEU CÓDIGO AQUI"
      ],
      "execution_count": 0,
      "outputs": []
    },
    {
      "cell_type": "markdown",
      "metadata": {
        "id": "e7id8Ewgzlow",
        "colab_type": "text"
      },
      "source": [
        "As Organizações Mendéz resolveram dar um aumento de salário aos seus colaboradores e lhe contraram para desenvolver o programa que calculará os reajustes em Python. Faça um programa que receba o salário de um colaborador e o reajuste segundo o seguinte critério, baseado no salário atual:\n",
        "\n",
        "* salários entre 680,00 e 800,00 : aumento de 15%<br>\n",
        "* salários entre 800,00 e 2500,00 : aumento de 10%<br>\n",
        "* salários de 2500,00 em diante : aumento de 5% após o aumento ser realizado.\n",
        "\n",
        "Informe na tela:\n",
        "* o salário antes do reajuste;\n",
        "* o percentual de aumento aplicado;\n",
        "* o valor do aumento;\n",
        "* o novo salário, após o aumento."
      ]
    },
    {
      "cell_type": "code",
      "metadata": {
        "id": "Kl0ainsv0Eif",
        "colab_type": "code",
        "outputId": "0f31c6a3-2759-40c8-b67b-6c0597deb61a",
        "colab": {
          "base_uri": "https://localhost:8080/",
          "height": 102
        }
      },
      "source": [
        "s = float(input('Digite o salário atual: '))\n",
        "if 680 <= s < 800:\n",
        "  a = 15\n",
        "  sn = s * (1 + a/100)\n",
        "  print(f'Salário anterior: R$ {s}')\n",
        "  print(f'Percentual de aumento: {a}%')\n",
        "  print(f'Valor do aumento: {s * a/100:.2f}')\n",
        "  print(f'Salário atual: R$ {sn:.2f}')\n",
        "if 800 <= s < 2500:\n",
        "  a = 10\n",
        "  sn = s * (1 + a/100)\n",
        "  print(f'Salário anterior: R$ {s}')\n",
        "  print(f'Percentual de aumento: {a}%')\n",
        "  print(f'Valor do aumento: {s * a/100:.2f}')\n",
        "  print(f'Salário atual: R$ {sn:.2f}')\n",
        "if s >= 2500:\n",
        "  a = 5\n",
        "  sn = s * (1 + a/100)\n",
        "  print(f'Salário anterior: R$ {s}')\n",
        "  print(f'Percentual de aumento: {a}%')\n",
        "  print(f'Valor do aumento: {s * a/100:.2f}')\n",
        "  print(f'Salário atual: R$ {sn:.2f}')"
      ],
      "execution_count": 0,
      "outputs": [
        {
          "output_type": "stream",
          "text": [
            "Digite o salário atual: 3257\n",
            "Salário anterior: R$ 3257.0\n",
            "Percentual de aumento: 5%\n",
            "Valor do aumento: 162.85\n",
            "Salário atual: R$ 3419.85\n"
          ],
          "name": "stdout"
        }
      ]
    }
  ]
}
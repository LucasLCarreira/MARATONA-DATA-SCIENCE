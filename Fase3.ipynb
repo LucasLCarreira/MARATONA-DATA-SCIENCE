{
  "nbformat": 4,
  "nbformat_minor": 0,
  "metadata": {
    "colab": {
      "name": "Fase3.ipynb",
      "provenance": [],
      "include_colab_link": true
    },
    "kernelspec": {
      "name": "python3",
      "display_name": "Python 3"
    }
  },
  "cells": [
    {
      "cell_type": "markdown",
      "metadata": {
        "id": "view-in-github",
        "colab_type": "text"
      },
      "source": [
        "<a href=\"https://colab.research.google.com/github/LucasLCarreira/MARATONA-DATA-SCIENCE/blob/master/Fase3.ipynb\" target=\"_parent\"><img src=\"https://colab.research.google.com/assets/colab-badge.svg\" alt=\"Open In Colab\"/></a>"
      ]
    },
    {
      "cell_type": "markdown",
      "metadata": {
        "id": "CYNAmoj4zSXl",
        "colab_type": "text"
      },
      "source": [
        "Crie um algoritmo em Python que peça uma nota, entre zero e 100. Mostre uma mensagem caso o valor seja inválido e continue pedindo até que o usuário informe um valor válido."
      ]
    },
    {
      "cell_type": "code",
      "metadata": {
        "id": "ViAfpy3GzPN-",
        "colab_type": "code",
        "outputId": "4bf7faba-460c-4dbc-c615-2168271a7480",
        "colab": {
          "base_uri": "https://localhost:8080/",
          "height": 221
        }
      },
      "source": [
        "n=0\n",
        "while True:\n",
        "    try:\n",
        "        n = int(input('Digite uma nota entre 0 e 100: '))\n",
        "    except Exception as erro:\n",
        "        print(f'Erro: {erro}')\n",
        "    else:\n",
        "        if n >= 0 and  n <= 100:\n",
        "            print(f'Parabéns, você digitou a nota {n}')\n",
        "            break\n",
        "        else:\n",
        "            print(f'Erro, o valor {n} não está no intervalo de 0 a 100!')\n"
      ],
      "execution_count": 0,
      "outputs": [
        {
          "output_type": "stream",
          "text": [
            "Digite uma nota entre 0 e 100: 101\n",
            "Erro, o valor 101 não está no intervalo de 0 a 100!\n",
            "Digite uma nota entre 0 e 100: -1\n",
            "Erro, o valor -1 não está no intervalo de 0 a 100!\n",
            "Digite uma nota entre 0 e 100: p\n",
            "Erro: invalid literal for int() with base 10: 'p'\n",
            "Digite uma nota entre 0 e 100: \n",
            "Erro: invalid literal for int() with base 10: ''\n",
            "Digite uma nota entre 0 e 100:  \n",
            "Erro: invalid literal for int() with base 10: ' '\n",
            "Digite uma nota entre 0 e 100: 0\n",
            "Parabéns, você digitou a nota 0\n"
          ],
          "name": "stdout"
        }
      ]
    },
    {
      "cell_type": "markdown",
      "metadata": {
        "id": "gdMis92izSmQ",
        "colab_type": "text"
      },
      "source": [
        "Crie um algoritmo em Python que leia um nome de usuário e a sua senha e não aceite a senha igual ao nome do usuário, mostrando uma mensagem de erro e voltando a pedir as informações.<br>"
      ]
    },
    {
      "cell_type": "code",
      "metadata": {
        "id": "BFpWkdCBz_zh",
        "colab_type": "code",
        "colab": {}
      },
      "source": [
        "while True:\n",
        "    nome = str(input('Nome: ')).strip()\n",
        "    senha = str(input('Senha: ')).strip()\n",
        "    if nome != senha:\n",
        "        print(f'O usuário {nome.title()} foi logado com sucesso!')\n",
        "        break\n",
        "    else:\n",
        "        print('Erro! A senha deve ser diferente do nome de usuário!')"
      ],
      "execution_count": 0,
      "outputs": []
    },
    {
      "cell_type": "markdown",
      "metadata": {
        "id": "E_0l_Vx6zSo2",
        "colab_type": "text"
      },
      "source": [
        "Crie um algoritmo em Python que leia e valide as seguintes informações:\n",
        "* Nome: maior que 3 caracteres;\n",
        "* Idade: entre 0 e 150;\n",
        "* Salário: maior que zero;\n",
        "* Sexo: 'f' ou 'm';\n",
        "* Estado Civil: 's', 'c', 'v', 'd';"
      ]
    },
    {
      "cell_type": "code",
      "metadata": {
        "id": "KwJf7XZS0AZW",
        "colab_type": "code",
        "colab": {}
      },
      "source": [
        "nome = sexo = estado = ' '\n",
        "idade = -1\n",
        "salario = 0\n",
        "\n",
        "while len(nome) < 4:\n",
        "    nome = str(input('Nome: ')).strip().title()\n",
        "while idade < 0 or idade > 150:\n",
        "    idade = int(input('Idade: '))\n",
        "while salario <= 0:\n",
        "    salario = float(input('Salário: R$ '))\n",
        "while sexo not in 'FM':\n",
        "    sexo = str(input('Sexo [F/M]: ')).strip().upper()[0]\n",
        "while estado not in 'SCVD':\n",
        "    estado = str(input('Estado Civil [S/C/V/D]')).strip().upper()[0]\n",
        "print(f'Nome: {nome}\\nIdade: {idade}\\nSalário: R$ {salario:.2f}\\nSexo: {sexo}\\nEstado Civil: {estado}')"
      ],
      "execution_count": 0,
      "outputs": []
    },
    {
      "cell_type": "markdown",
      "metadata": {
        "id": "1i4VCiiczSrL",
        "colab_type": "text"
      },
      "source": [
        "Supondo que a população de um país A seja da ordem de 80000 habitantes com uma taxa anual de crescimento de 3% e que a população de B seja 200000 habitantes com uma taxa de crescimento de 1.5%.<br><br> Crie um algoritmo em Python que calcule e escreva o número de anos necessários para que a população do país A ultrapasse ou iguale a população do país B, mantidas as taxas de crescimento."
      ]
    },
    {
      "cell_type": "code",
      "metadata": {
        "id": "yoW67hjA0BHy",
        "colab_type": "code",
        "outputId": "8b636001-2b7a-420b-8986-09caa7387ac8",
        "colab": {
          "base_uri": "https://localhost:8080/",
          "height": 34
        }
      },
      "source": [
        "a = 80000\n",
        "b = 200000\n",
        "anos = 0\n",
        "\n",
        "while a < b:\n",
        "    a *= (1 + 3/100)\n",
        "    b *= (1 + 1.5/100)\n",
        "    anos += 1\n",
        "\n",
        "print(anos)"
      ],
      "execution_count": 0,
      "outputs": [
        {
          "output_type": "stream",
          "text": [
            "63\n"
          ],
          "name": "stdout"
        }
      ]
    },
    {
      "cell_type": "markdown",
      "metadata": {
        "id": "4ep7kezvzStO",
        "colab_type": "text"
      },
      "source": [
        "Desenvolva um gerador de tabuada, capaz de gerar a tabuada de qualquer número inteiro entre 1 a 10. O usuário deve informar de qual numero ele deseja ver a tabuada. A saída deve ser conforme o exemplo abaixo:\n",
        "Tabuada de 5:<br>\n",
        "5 X 1 = 5<br>\n",
        "5 X 2 = 10<br>\n",
        "...<br>\n",
        "5 X 10 = 50<br>"
      ]
    },
    {
      "cell_type": "code",
      "metadata": {
        "id": "6K6IHWdr0Blt",
        "colab_type": "code",
        "outputId": "dcef1855-32c8-456e-ef88-529194d08543",
        "colab": {
          "base_uri": "https://localhost:8080/",
          "height": 204
        }
      },
      "source": [
        "n = int(input('Digite um número de 1 a 10 para calcular a tabuada: '))\n",
        "prod = 1\n",
        "for t in range(1,11):\n",
        "    prod = n * t\n",
        "    print(f'{n} x {t:2} = {prod:3}')\n"
      ],
      "execution_count": 0,
      "outputs": [
        {
          "output_type": "stream",
          "text": [
            "Digite um número de 1 a 10 para calcular a tabuada: 3\n",
            "3 x  1 =   3\n",
            "3 x  2 =   6\n",
            "3 x  3 =   9\n",
            "3 x  4 =  12\n",
            "3 x  5 =  15\n",
            "3 x  6 =  18\n",
            "3 x  7 =  21\n",
            "3 x  8 =  24\n",
            "3 x  9 =  27\n",
            "3 x 10 =  30\n"
          ],
          "name": "stdout"
        }
      ]
    },
    {
      "cell_type": "markdown",
      "metadata": {
        "id": "u6__NaXqzeYg",
        "colab_type": "text"
      },
      "source": [
        "Crie um algoritmo em Python que leia três números \n",
        "e mostre o maior e o menor deles."
      ]
    },
    {
      "cell_type": "code",
      "metadata": {
        "id": "mm2L7g3x0Cfx",
        "colab_type": "code",
        "outputId": "cda04cec-0253-4b93-f143-e161b62cffc6",
        "colab": {
          "base_uri": "https://localhost:8080/",
          "height": 102
        }
      },
      "source": [
        "lista = []\n",
        "for c in range(1, 4):\n",
        "    n = int(input(f'Digite o {c}º valor: '))\n",
        "    lista.append(n)\n",
        "print(f'Menor: {sorted(lista)[0]}')\n",
        "print(f'Maior: {sorted(lista)[len(sorted(lista))-1]}')"
      ],
      "execution_count": 0,
      "outputs": [
        {
          "output_type": "stream",
          "text": [
            "Digite o 1º valor: 5\n",
            "Digite o 2º valor: 5\n",
            "Digite o 3º valor: 6\n",
            "Menor: 5\n",
            "Maior: 6\n"
          ],
          "name": "stdout"
        }
      ]
    },
    {
      "cell_type": "markdown",
      "metadata": {
        "id": "lIlfG-ATzgOr",
        "colab_type": "text"
      },
      "source": [
        "Crie um algoritmo em Python que peça 2 números, base e expoente, calcule e mostre o primeiro número elevado ao segundo número. Não utilize a função de potência da linguagem."
      ]
    },
    {
      "cell_type": "code",
      "metadata": {
        "id": "-y4pB6br0DD_",
        "colab_type": "code",
        "colab": {}
      },
      "source": [
        "base = int(input('Digite a base: '))\n",
        "expoente = int(input('Digite o expoente: '))\n",
        "potencia = base ** expoente\n",
        "print(f'A potência de {base} elevado a {expoente} é igual a {potencia}!')"
      ],
      "execution_count": 0,
      "outputs": []
    },
    {
      "cell_type": "markdown",
      "metadata": {
        "id": "Vj4OXsJQziu_",
        "colab_type": "text"
      },
      "source": [
        "Crie um algoritmo em Python que peça 10 números inteiros, calcule e mostre a quantidade de números pares e a quantidade de números impares."
      ]
    },
    {
      "cell_type": "code",
      "metadata": {
        "id": "RmApGpg30D00",
        "colab_type": "code",
        "colab": {}
      },
      "source": [
        "pares = impares = 0\n",
        "for c in range(1, 11):\n",
        "    n = int(input(f'Digite o {c}º número: '))\n",
        "    if n % 2 == 0:\n",
        "        pares += 1\n",
        "    else:\n",
        "        impares += 1\n",
        "print(f'Pares: {pares}')\n",
        "print(f'Ímpares: {impares}')"
      ],
      "execution_count": 0,
      "outputs": []
    },
    {
      "cell_type": "markdown",
      "metadata": {
        "id": "e7id8Ewgzlow",
        "colab_type": "text"
      },
      "source": [
        "Um funcionário de uma empresa recebe aumento salarial anualmente: Sabe-se que:\n",
        "Esse funcionário foi contratado em 1995, com salário inicial de R$ 1.000,00;\n",
        "Em 1996 recebeu aumento de 1,5% sobre seu salário inicial;\n",
        "A partir de 1997 (inclusive), os aumentos salariais sempre correspondem ao dobro do percentual do ano anterior. Crie um algoritmo em Python que determine o salário atual desse funcionário. Após concluir isto, altere o programa permitindo que o usuário digite o salário inicial do funcionário."
      ]
    },
    {
      "cell_type": "code",
      "metadata": {
        "id": "Kl0ainsv0Eif",
        "colab_type": "code",
        "colab": {}
      },
      "source": [
        "# Salário atual do funcionário:\n",
        "from datetime import datetime\n",
        "salario_i = 1000\n",
        "aumento = 0.015\n",
        "salario = salario_i * (1 + aumento)\n",
        "for a in range(1997, datetime.today().year + 1):\n",
        "    aumento *= 2\n",
        "    salario = salario * (1 + aumento)\n",
        "    print(f'{salario:.2f}')\n",
        "# Inserindo o salário inicial\n",
        "salario_i = float(input(('Digite o salário inicial: ')))\n",
        "aumento = 0.015\n",
        "salario = salario_i * (1 + aumento)\n",
        "for a in range(1997, datetime.today().year + 1):\n",
        "    aumento *= 2\n",
        "    salario = salario * (1 + aumento)\n",
        "    print(f'{salario:.2f}')"
      ],
      "execution_count": 0,
      "outputs": []
    },
    {
      "cell_type": "markdown",
      "metadata": {
        "id": "5u9i4kzm-itX",
        "colab_type": "text"
      },
      "source": [
        "Crie um algoritmo em Python com uma função que necessite de um argumento. A função retorna o valor de caractere ‘P’, se seu argumento for positivo, e ‘N’, se seu argumento for zero ou negativo."
      ]
    },
    {
      "cell_type": "code",
      "metadata": {
        "id": "WNt8CLa2-rGt",
        "colab_type": "code",
        "colab": {}
      },
      "source": [
        "def sinal(n):\n",
        "    if n > 0:\n",
        "        print('P')\n",
        "    else:\n",
        "        print('N')\n",
        "\n",
        "\n",
        "sinal(int(input('Digite um valor qualquer: ')))"
      ],
      "execution_count": 0,
      "outputs": []
    },
    {
      "cell_type": "markdown",
      "metadata": {
        "id": "CHiYMSOJ-rSY",
        "colab_type": "text"
      },
      "source": [
        "Construa uma função que receba uma data no formato DD/MM/AAAA e devolva uma string no formato D de mesPorExtenso de AAAA. Opcionalmente, valide a data e retorne NULL caso a data seja inválida."
      ]
    },
    {
      "cell_type": "code",
      "metadata": {
        "id": "6Ukxx6gQ-r4-",
        "colab_type": "code",
        "outputId": "64d56148-6985-46cd-ed1a-cf33a5c82e30",
        "colab": {
          "base_uri": "https://localhost:8080/",
          "height": 51
        }
      },
      "source": [
        "def data():\n",
        "    data = str(input('Digite a data no formato [DD/MM/AAAA]: ')).replace('/', ' ')\n",
        "    data2 = data.split()\n",
        "    MM = int(data2[1])\n",
        "    meses = ['janeiro', 'fevereiro', 'março', 'abril',\n",
        "             'maio', 'junho', 'julho', 'agosto',\n",
        "             'setembro', 'outubro', 'novembro', 'dezembro']\n",
        "    D = str(data2[0])\n",
        "    M = meses[MM - 1]\n",
        "    A = str(data2[2])\n",
        "    print(f'{D} de {M} de {A}')\n",
        "\n",
        "\n",
        "data()"
      ],
      "execution_count": 0,
      "outputs": [
        {
          "output_type": "stream",
          "text": [
            "Digite a data no formato [DD/MM/AAAA]: 23/08/1992\n",
            "23 de agosto de 1992\n"
          ],
          "name": "stdout"
        }
      ]
    },
    {
      "cell_type": "markdown",
      "metadata": {
        "id": "AzUYbZ8A-zj7",
        "colab_type": "text"
      },
      "source": [
        "Crie uma classe que modele uma pessoa:<br>\n",
        "\n",
        "Atributos: nome, idade, peso e altura<br>\n",
        "Métodos: Envelhercer, engordar, emagrecer, crescer.<br>\n",
        "<br>Obs: Por padrão, a cada ano que nossa pessoa envelhece, sendo a idade dela menor que 21 anos, ela deve crescer 0,5 cm."
      ]
    },
    {
      "cell_type": "code",
      "metadata": {
        "id": "qobhV-FC-zRS",
        "colab_type": "code",
        "outputId": "1b4c030e-eff2-4dc2-a5ea-73812e0abd18",
        "colab": {
          "base_uri": "https://localhost:8080/",
          "height": 68
        }
      },
      "source": [
        "class modelagem:\n",
        "    def __init__(self, nome: str, idade: int, peso: float, altura: float):\n",
        "        self.nome = nome\n",
        "        self.idade = idade\n",
        "        self.peso = peso\n",
        "        self.altura = altura\n",
        "\n",
        "\n",
        "    def envelhecer(self):\n",
        "        self.idade += 1\n",
        "\n",
        "\n",
        "    def engordar(self, peso):\n",
        "        self.peso += peso\n",
        "\n",
        "\n",
        "    def emagrecer(self, peso):\n",
        "        self.peso -= peso\n",
        "\n",
        "\n",
        "    def crescer(self, altura):\n",
        "        if self.idade < 21:\n",
        "            self.altura += 0.5\n",
        "\n",
        "        self.altura += altura\n",
        "\n",
        "\n",
        "    def mostraPessoa(self):\n",
        "        print(f'Nome: {self.nome}, idade: {self.idade} anos, peso: {self.peso}kg, altura: {self.altura}cm')\n",
        "\n",
        "\n",
        "Lucas = modelagem('Lucas', 31, 73, 178)\n",
        "Lucas.mostraPessoa()\n",
        "Lucas.envelhecer()\n",
        "Lucas.emagrecer(3)\n",
        "Lucas.mostraPessoa()\n",
        "Lucas.engordar(5)\n",
        "Lucas.crescer(2)\n",
        "Lucas.mostraPessoa()"
      ],
      "execution_count": 0,
      "outputs": [
        {
          "output_type": "stream",
          "text": [
            "Nome: Lucas, idade: 31 anos, peso: 73kg, altura: 178cm\n",
            "Nome: Lucas, idade: 32 anos, peso: 70kg, altura: 178cm\n",
            "Nome: Lucas, idade: 32 anos, peso: 75kg, altura: 180cm\n"
          ],
          "name": "stdout"
        }
      ]
    }
  ]
}
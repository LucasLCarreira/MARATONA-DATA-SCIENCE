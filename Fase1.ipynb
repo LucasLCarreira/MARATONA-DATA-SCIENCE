{
  "nbformat": 4,
  "nbformat_minor": 0,
  "metadata": {
    "colab": {
      "name": "Fase1.ipynb",
      "provenance": [],
      "include_colab_link": true
    },
    "kernelspec": {
      "name": "python3",
      "display_name": "Python 3"
    }
  },
  "cells": [
    {
      "cell_type": "markdown",
      "metadata": {
        "id": "view-in-github",
        "colab_type": "text"
      },
      "source": [
        "<a href=\"https://colab.research.google.com/github/LucasLCarreira/MARATONA-DATA-SCIENCE/blob/master/Fase1.ipynb\" target=\"_parent\"><img src=\"https://colab.research.google.com/assets/colab-badge.svg\" alt=\"Open In Colab\"/></a>"
      ]
    },
    {
      "cell_type": "markdown",
      "metadata": {
        "id": "CYNAmoj4zSXl",
        "colab_type": "text"
      },
      "source": [
        "Crie um algoritmo em Python que mostre a mensagem \"Alo mundo\" na tela."
      ]
    },
    {
      "cell_type": "code",
      "metadata": {
        "id": "ViAfpy3GzPN-",
        "colab_type": "code",
        "outputId": "54731b10-ddb1-4772-bae4-4c1939fa7bb3",
        "colab": {
          "base_uri": "https://localhost:8080/",
          "height": 34
        }
      },
      "source": [
        "print('Olá, Mundo!')"
      ],
      "execution_count": 0,
      "outputs": [
        {
          "output_type": "stream",
          "text": [
            "Olá, Mundo!\n"
          ],
          "name": "stdout"
        }
      ]
    },
    {
      "cell_type": "markdown",
      "metadata": {
        "id": "gdMis92izSmQ",
        "colab_type": "text"
      },
      "source": [
        "Crie um algoritmo em Python que peça dois números e imprima a soma."
      ]
    },
    {
      "cell_type": "code",
      "metadata": {
        "id": "BFpWkdCBz_zh",
        "colab_type": "code",
        "outputId": "d98b2c6e-d5b0-45b4-e42b-f8d598f7bf85",
        "colab": {
          "base_uri": "https://localhost:8080/",
          "height": 68
        }
      },
      "source": [
        "x = int(input('Digite o primeiro número: '))\n",
        "y = int(input('Digite o segundo número: '))\n",
        "print(f'A soma de {x} e {y} é igual a {x + y}!')"
      ],
      "execution_count": 0,
      "outputs": [
        {
          "output_type": "stream",
          "text": [
            "Digite o primeiro número: 2\n",
            "Digite o segundo número: 3\n",
            "A soma de 2 e 3 é igual a 5!\n"
          ],
          "name": "stdout"
        }
      ]
    },
    {
      "cell_type": "markdown",
      "metadata": {
        "id": "E_0l_Vx6zSo2",
        "colab_type": "text"
      },
      "source": [
        "Crie um algoritmo em Python que peça um número e então mostre a mensagem O número informado foi [número]."
      ]
    },
    {
      "cell_type": "code",
      "metadata": {
        "id": "KwJf7XZS0AZW",
        "colab_type": "code",
        "outputId": "03d8a748-d7b2-434d-e42e-d76001e3f3e9",
        "colab": {
          "base_uri": "https://localhost:8080/",
          "height": 51
        }
      },
      "source": [
        "x = int(input('Digite o primeiro número: '))\n",
        "print(f'O número informado foi {x}!')"
      ],
      "execution_count": 0,
      "outputs": [
        {
          "output_type": "stream",
          "text": [
            "Digite o primeiro número: 8\n",
            "O número informado foi 8!\n"
          ],
          "name": "stdout"
        }
      ]
    },
    {
      "cell_type": "markdown",
      "metadata": {
        "id": "1i4VCiiczSrL",
        "colab_type": "text"
      },
      "source": [
        "Crie um algoritmo em Python que converta metros para centímetros."
      ]
    },
    {
      "cell_type": "code",
      "metadata": {
        "id": "yoW67hjA0BHy",
        "colab_type": "code",
        "outputId": "a0554806-3ff3-4ad3-e803-245b466807aa",
        "colab": {
          "base_uri": "https://localhost:8080/",
          "height": 51
        }
      },
      "source": [
        "x = int(input('Digite a medida em metros: '))\n",
        "print(f'{x} metros equivalem a {x*100} centimetros!')"
      ],
      "execution_count": 0,
      "outputs": [
        {
          "output_type": "stream",
          "text": [
            "Digite a medida em metros: 2\n",
            "2 metros equivalem a 200 centimetros!\n"
          ],
          "name": "stdout"
        }
      ]
    },
    {
      "cell_type": "markdown",
      "metadata": {
        "id": "4ep7kezvzStO",
        "colab_type": "text"
      },
      "source": [
        "Crie um algoritmo em Python que peça as 4 notas bimestrais e mostre a média."
      ]
    },
    {
      "cell_type": "code",
      "metadata": {
        "id": "6K6IHWdr0Blt",
        "colab_type": "code",
        "outputId": "e2d34d7a-bfd0-4e87-8a2b-a2b26d558013",
        "colab": {
          "base_uri": "https://localhost:8080/",
          "height": 102
        }
      },
      "source": [
        "n1 = float(input('Digite a primeira nota: '))\n",
        "n2 = float(input('Digite a segunda nota: '))\n",
        "n3 = float(input('Digite a terceira nota: '))\n",
        "n4 = float(input('Digite a quarta nota: '))\n",
        "media = (n1 + n2 + n3 + n4) / 4\n",
        "print(f'A média é igual a {media}!')"
      ],
      "execution_count": 0,
      "outputs": [
        {
          "output_type": "stream",
          "text": [
            "Digite a primeira nota: 4\n",
            "Digite a segunda nota: 5\n",
            "Digite a terceira nota: 8\n",
            "Digite a quarta nota: 6\n",
            "A média é igual a 5.75!\n"
          ],
          "name": "stdout"
        }
      ]
    },
    {
      "cell_type": "markdown",
      "metadata": {
        "id": "u6__NaXqzeYg",
        "colab_type": "text"
      },
      "source": [
        "Crie um algoritmo em Python que peça o raio de um círculo, calcule e mostre sua área."
      ]
    },
    {
      "cell_type": "code",
      "metadata": {
        "id": "mm2L7g3x0Cfx",
        "colab_type": "code",
        "outputId": "18cb1e33-788d-4680-f0c3-afd8884cacd0",
        "colab": {
          "base_uri": "https://localhost:8080/",
          "height": 51
        }
      },
      "source": [
        "r = float(input('Digite o raio de um círculo: '))\n",
        "area = 3.1416 * r ** 2\n",
        "print(f'A área do círculo de raio {r} é igual a {area:.2f}')"
      ],
      "execution_count": 0,
      "outputs": [
        {
          "output_type": "stream",
          "text": [
            "Digite o raio de um círculo: 5\n",
            "A área do círculo de raio 5.0 é igual a 78.54\n"
          ],
          "name": "stdout"
        }
      ]
    },
    {
      "cell_type": "markdown",
      "metadata": {
        "id": "lIlfG-ATzgOr",
        "colab_type": "text"
      },
      "source": [
        "Crie um algoritmo em Python que calcule a área de um quadrado, em seguida mostre o dobro desta área para o usuário."
      ]
    },
    {
      "cell_type": "code",
      "metadata": {
        "id": "-y4pB6br0DD_",
        "colab_type": "code",
        "outputId": "9851e40a-c1ca-4778-d8dd-a0fa4bb8309f",
        "colab": {
          "base_uri": "https://localhost:8080/",
          "height": 68
        }
      },
      "source": [
        "l = float(input('Digite a medida do lado do quadrado: '))\n",
        "a = l * l\n",
        "print(f'A área do quadrado é {a}.')\n",
        "print(f'O dobro da área é {2 * a}')"
      ],
      "execution_count": 0,
      "outputs": [
        {
          "output_type": "stream",
          "text": [
            "Digite a medida do lado do quadrado: 5\n",
            "A área do quadrado é 25.0.\n",
            "O dobro da área é 50.0\n"
          ],
          "name": "stdout"
        }
      ]
    },
    {
      "cell_type": "markdown",
      "metadata": {
        "id": "Vj4OXsJQziu_",
        "colab_type": "text"
      },
      "source": [
        "Crie um algoritmo em Python que pergunte quanto você ganha por hora e o número de horas trabalhadas no mês. Calcule e mostre o total do seu salário no referido mês.\n"
      ]
    },
    {
      "cell_type": "code",
      "metadata": {
        "id": "RmApGpg30D00",
        "colab_type": "code",
        "outputId": "fd3be78e-5bc9-4767-9e12-271742070536",
        "colab": {
          "base_uri": "https://localhost:8080/",
          "height": 102
        }
      },
      "source": [
        "v = float(input('Digite o valor da hora trabalhada: '))\n",
        "h = float(input('Digite a quantidade de horas trabalhadas no mês: '))\n",
        "s = v * h\n",
        "print(f'Valor/hora: R$ {v:.2f}\\nQtde de horas: {h}\\nSalário a receber: R$ {s:.2f}')"
      ],
      "execution_count": 0,
      "outputs": [
        {
          "output_type": "stream",
          "text": [
            "Digite o valor da hora trabalhada: 12.57\n",
            "Digite a quantidade de horas trabalhadas no mês: 220\n",
            "Valor/hora: R$ 12.57\n",
            "Qtde de horas: 220.0\n",
            "Salário a receber: R$ 2765.40\n"
          ],
          "name": "stdout"
        }
      ]
    },
    {
      "cell_type": "markdown",
      "metadata": {
        "id": "e7id8Ewgzlow",
        "colab_type": "text"
      },
      "source": [
        "Crie um algoritmo em Python que peça a temperatura em graus Farenheit, transforme e mostre a temperatura em graus Celsius.\n",
        "C = (5 * (F-32) / 9)."
      ]
    },
    {
      "cell_type": "code",
      "metadata": {
        "id": "Kl0ainsv0Eif",
        "colab_type": "code",
        "outputId": "498270ff-a5df-4984-88f3-624fab13848e",
        "colab": {
          "base_uri": "https://localhost:8080/",
          "height": 51
        }
      },
      "source": [
        "f = float(input('Digite a temperatura em Farenheit (Fº): '))\n",
        "c = (5 * (f - 32) / 9)\n",
        "print(f'Convertendo {f} Fº, temos {c:.2f} Cº!')"
      ],
      "execution_count": 0,
      "outputs": [
        {
          "output_type": "stream",
          "text": [
            "Digite a temperatura em Farenheit (Fº): 98\n",
            "Convertendo 98.0 Fº, temos 36.67 Cº!\n"
          ],
          "name": "stdout"
        }
      ]
    },
    {
      "cell_type": "markdown",
      "metadata": {
        "id": "mFCgXRPaznno",
        "colab_type": "text"
      },
      "source": [
        "Crie um algoritmo em Python que peça a temperatura em graus Celsius, transforme e mostre em graus Farenheit."
      ]
    },
    {
      "cell_type": "code",
      "metadata": {
        "id": "xEAAHRi00FS8",
        "colab_type": "code",
        "outputId": "3ec35690-3a74-40bb-f669-565773f8cc86",
        "colab": {
          "base_uri": "https://localhost:8080/",
          "height": 51
        }
      },
      "source": [
        "c = float(input('Digite a temperatura em Celsius (Cº): '))\n",
        "f = (9 * c) / 5 + 32\n",
        "print(f'Convertendo {c} Cº, temos {f:.2f} Fº!')"
      ],
      "execution_count": 0,
      "outputs": [
        {
          "output_type": "stream",
          "text": [
            "Digite a temperatura em Celsius (Cº): 36.67\n",
            "Convertendo 36.67 Cº, temos 98.01 Fº!\n"
          ],
          "name": "stdout"
        }
      ]
    },
    {
      "cell_type": "markdown",
      "metadata": {
        "id": "j3fdhu-8zqu9",
        "colab_type": "text"
      },
      "source": [
        "Crie um algoritmo em Python que peça 2 números inteiros e um número real. Calcule e mostre:\n",
        "* a soma do dobro do primeiro com metade do segundo .\n",
        "* a soma do triplo do primeiro com o terceiro.\n",
        "* o terceiro elevado ao cubo."
      ]
    },
    {
      "cell_type": "code",
      "metadata": {
        "id": "ZEqZrKjt0F5B",
        "colab_type": "code",
        "outputId": "d714f4f4-d8a4-43c9-8119-808a2c4c7158",
        "colab": {
          "base_uri": "https://localhost:8080/",
          "height": 119
        }
      },
      "source": [
        "i1 = int(input('Digite o primeiro número inteiro: '))\n",
        "i2 = int(input('Digite o segundo número inteiro: '))\n",
        "r = float(input('Digite o primeiro número real: '))\n",
        "res1 = i1 * 2 + i2 / 2\n",
        "res2 = i1 * 3 + r\n",
        "res3 = r ** 3\n",
        "print(f'A soma do dobro do primeiro com metade do segundo: {res1}\\nA soma do triplo do primeiro com o terceiro: {res2}\\nO terceiro elevado ao cubo: {res3:.2f}')"
      ],
      "execution_count": 0,
      "outputs": [
        {
          "output_type": "stream",
          "text": [
            "Digite o primeiro número inteiro: 5\n",
            "Digite o segundo número inteiro: 6\n",
            "Digite o primeiro número real: 2.5\n",
            "A soma do dobro do primeiro com metade do segundo: 13.0\n",
            "A soma do triplo do primeiro com o terceiro: 17.5\n",
            "O terceiro elevado ao cubo: 15.625\n"
          ],
          "name": "stdout"
        }
      ]
    }
  ]
}